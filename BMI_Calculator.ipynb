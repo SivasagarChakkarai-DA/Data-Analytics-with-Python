{
 "cells": [
  {
   "cell_type": "markdown",
   "id": "8c993353-e72e-4428-9413-48d86d7dc5c2",
   "metadata": {},
   "source": [
    "# BMI CALCULATOR"
   ]
  },
  {
   "cell_type": "markdown",
   "id": "9b0572c6-d8ef-4571-b3bb-fa28003502a1",
   "metadata": {},
   "source": [
    "# BMI (kg/m2) = weight (kg) / height2 (m)"
   ]
  },
  {
   "cell_type": "markdown",
   "id": "505fbdd6-57f9-4ba8-a359-09f16876eb89",
   "metadata": {},
   "source": [
    "#BMI categories and corresponding BMI prime and risk levels\n",
    "\n",
    "Category\t                BMI range (kg/m2)\tBMI Prime\t       Risk level\n",
    "Very severely underweight\tless than 15\t    less than 0.60\t    Moderate\n",
    "Severely underweight\t    15 - 15.9\t        0.60 - 0.64\t        Moderate\n",
    "Underweight\t                16 - 18.4\t        0.64 - 0.74\t        Moderate\n",
    "Normal (healthy)\t        18.5 - 24.9\t        0.74 - 1.0\t        Very low\n",
    "Overweight\t                25 - 29.9\t        1.0 - 1.2\t        Low\n",
    "Moderately obese\t        30 - 34.9\t        1.2 - 1.4\t        Moderate\n",
    "Severely obese\t            35 - 39.9\t        1.4 - 1.6\t        High\n",
    "Very severely obese\t        40+\t                1.6+\t            Very high"
   ]
  },
  {
   "cell_type": "code",
   "execution_count": 27,
   "id": "6c129c81-c2a0-432d-a9b2-ff0617b10d16",
   "metadata": {},
   "outputs": [
    {
     "name": "stdin",
     "output_type": "stream",
     "text": [
      "Enter Your Name(in CAPITALS):  SIVASAGAR CHAKKARAI\n",
      "Enter Your Weight(in Kg):  81\n",
      "Enter Your Height(in cm):  178\n"
     ]
    },
    {
     "name": "stdout",
     "output_type": "stream",
     "text": [
      "25.5649539199596\n",
      "Mr/Ms/Mrs.SIVASAGAR CHAKKARAI, You Are Overweight.\n"
     ]
    }
   ],
   "source": [
    "name = input(\"Enter Your Name(in CAPITALS): \")\n",
    "weight = int(input(\"Enter Your Weight(in Kg): \"))\n",
    "height = int(input(\"Enter Your Height(in cm): \"))\n",
    "\n",
    "BMI = weight/((height*0.01)*(height*0.01))\n",
    "print(BMI)\n",
    "\n",
    "if BMI > 0:\n",
    "    if(BMI < 18.4):\n",
    "        print(\"Mr/Ms/Mrs.\"+name+\", You Are Very Severely Underweight.\")\n",
    "    elif(BMI <= 24.9):\n",
    "        print(\"Mr/Ms/Mrs.\"+name+\", You Are Normal (Healthy Keep It For Long To Lead Happy LIfe!!!)\")\n",
    "    elif(BMI < 29.9):\n",
    "        print(\"Mr/Ms/Mrs.\"+name+\", You Are Overweight.\")\n",
    "    elif(BMI < 34.9):\n",
    "        print(\"Mr/Ms/Mrs.\"+name+\", You Are Moderately Obese.\")\n",
    "    elif(BMI < 39.9):\n",
    "        print(\"Mr/Ms/Mrs.\"+name+\", You Are Severely Obese.\")\n",
    "    elif(BMI >= 40):\n",
    "        print(\"Mr/Ms/Mrs.\"+name+\", You Are Very Severely Obese.\")\n",
    "else:\n",
    "    print(\"Enter Valid Inputs\")"
   ]
  },
  {
   "cell_type": "code",
   "execution_count": null,
   "id": "48fac0b1-c015-4e54-bcff-92ab61cd6635",
   "metadata": {},
   "outputs": [],
   "source": []
  },
  {
   "cell_type": "code",
   "execution_count": null,
   "id": "287fe8af-5250-4d56-9477-b9bb379e632e",
   "metadata": {},
   "outputs": [],
   "source": []
  },
  {
   "cell_type": "code",
   "execution_count": null,
   "id": "6ffda45b-f397-490f-8000-f57485646bcd",
   "metadata": {},
   "outputs": [],
   "source": []
  },
  {
   "cell_type": "code",
   "execution_count": null,
   "id": "af879ad4-d3e2-4271-acca-2ea2559d26cd",
   "metadata": {},
   "outputs": [],
   "source": []
  },
  {
   "cell_type": "code",
   "execution_count": null,
   "id": "832eb651-f155-40a8-b799-aab3eb89307b",
   "metadata": {},
   "outputs": [],
   "source": []
  },
  {
   "cell_type": "code",
   "execution_count": null,
   "id": "3890cafa-b7a1-4746-96e8-c4f0dd6e647c",
   "metadata": {},
   "outputs": [],
   "source": []
  },
  {
   "cell_type": "code",
   "execution_count": null,
   "id": "b592a5cd-7b3d-4053-a9db-c4a7f4e25e94",
   "metadata": {},
   "outputs": [],
   "source": []
  },
  {
   "cell_type": "code",
   "execution_count": null,
   "id": "1c44a086-db51-434e-9dd8-ed5c3497acb6",
   "metadata": {},
   "outputs": [],
   "source": []
  },
  {
   "cell_type": "code",
   "execution_count": null,
   "id": "83e6b284-6c41-482d-a9cc-548971f1e32e",
   "metadata": {},
   "outputs": [],
   "source": []
  },
  {
   "cell_type": "code",
   "execution_count": null,
   "id": "20e570eb-9f34-4c6c-94d1-c537009c290b",
   "metadata": {},
   "outputs": [],
   "source": []
  },
  {
   "cell_type": "code",
   "execution_count": null,
   "id": "3c618a43-e5ff-4933-9630-7acd400f8f9d",
   "metadata": {},
   "outputs": [],
   "source": []
  },
  {
   "cell_type": "code",
   "execution_count": null,
   "id": "7db1a09a-c416-4431-8ec8-1819f181c61e",
   "metadata": {},
   "outputs": [],
   "source": []
  },
  {
   "cell_type": "code",
   "execution_count": null,
   "id": "48d4d58a-e741-45ee-8a96-e6e261896865",
   "metadata": {},
   "outputs": [],
   "source": []
  },
  {
   "cell_type": "code",
   "execution_count": null,
   "id": "373f8cfd-302c-4a5b-ad9d-7a2aea70c6d6",
   "metadata": {},
   "outputs": [],
   "source": []
  },
  {
   "cell_type": "code",
   "execution_count": null,
   "id": "7f21aed1-0383-48ed-8ead-7dcfb5f5d9c5",
   "metadata": {},
   "outputs": [],
   "source": []
  },
  {
   "cell_type": "code",
   "execution_count": null,
   "id": "170b472d-3ab9-4845-a695-4eb93b0efd21",
   "metadata": {},
   "outputs": [],
   "source": []
  },
  {
   "cell_type": "code",
   "execution_count": null,
   "id": "b86a3af4-87bd-4979-9f4c-80140fd2a67a",
   "metadata": {},
   "outputs": [],
   "source": []
  },
  {
   "cell_type": "code",
   "execution_count": null,
   "id": "3d801a0d-6bd6-4ce9-8f7b-6f3b2d4095fb",
   "metadata": {},
   "outputs": [],
   "source": []
  },
  {
   "cell_type": "code",
   "execution_count": null,
   "id": "e640f1cd-77d1-4d0f-bc0c-e9d193dff651",
   "metadata": {},
   "outputs": [],
   "source": []
  },
  {
   "cell_type": "code",
   "execution_count": null,
   "id": "96604ea8-56d6-4d98-8472-ea48543d106e",
   "metadata": {},
   "outputs": [],
   "source": []
  },
  {
   "cell_type": "code",
   "execution_count": null,
   "id": "9663ee25-77ee-4f1c-a87e-e1a655b413e1",
   "metadata": {},
   "outputs": [],
   "source": []
  },
  {
   "cell_type": "code",
   "execution_count": null,
   "id": "37f7c551-ee82-4076-9438-2938239be0d5",
   "metadata": {},
   "outputs": [],
   "source": []
  },
  {
   "cell_type": "code",
   "execution_count": null,
   "id": "07a99f0b-464c-4829-bd28-1b590848e53f",
   "metadata": {},
   "outputs": [],
   "source": []
  },
  {
   "cell_type": "code",
   "execution_count": null,
   "id": "1f0edbc8-e9df-4da3-bd00-377e0d349b45",
   "metadata": {},
   "outputs": [],
   "source": []
  },
  {
   "cell_type": "code",
   "execution_count": null,
   "id": "d236375e-f587-4fd7-bbc8-4def9b7f88b0",
   "metadata": {},
   "outputs": [],
   "source": []
  },
  {
   "cell_type": "code",
   "execution_count": null,
   "id": "9d0684fe-6ab6-4fd3-8b35-1594aab50386",
   "metadata": {},
   "outputs": [],
   "source": []
  },
  {
   "cell_type": "code",
   "execution_count": null,
   "id": "616e4f61-f3c6-4281-b41d-f48eb46a4973",
   "metadata": {},
   "outputs": [],
   "source": []
  },
  {
   "cell_type": "code",
   "execution_count": null,
   "id": "620b980c-72ca-4183-a80a-ab5e8b2a23ed",
   "metadata": {},
   "outputs": [],
   "source": []
  },
  {
   "cell_type": "code",
   "execution_count": null,
   "id": "370f18e9-acdf-4a1f-8f44-c69246860773",
   "metadata": {},
   "outputs": [],
   "source": []
  },
  {
   "cell_type": "code",
   "execution_count": null,
   "id": "e59a681e-b828-405f-be63-d11ba4f6b087",
   "metadata": {},
   "outputs": [],
   "source": []
  },
  {
   "cell_type": "code",
   "execution_count": null,
   "id": "bb3660e4-9282-4675-8e49-ab6ec2d998f9",
   "metadata": {},
   "outputs": [],
   "source": []
  },
  {
   "cell_type": "code",
   "execution_count": null,
   "id": "8f291fed-8266-4488-9a9c-bcd122b47a99",
   "metadata": {},
   "outputs": [],
   "source": []
  },
  {
   "cell_type": "code",
   "execution_count": null,
   "id": "c562552b-5012-45eb-9b35-94d7f70ea27f",
   "metadata": {},
   "outputs": [],
   "source": []
  },
  {
   "cell_type": "code",
   "execution_count": null,
   "id": "76c712bf-1638-4325-b12a-7a7ae5f77b1a",
   "metadata": {},
   "outputs": [],
   "source": []
  },
  {
   "cell_type": "code",
   "execution_count": null,
   "id": "edee5e3b-86e3-41a0-978a-c492c5200336",
   "metadata": {},
   "outputs": [],
   "source": []
  },
  {
   "cell_type": "code",
   "execution_count": null,
   "id": "d6a44b6c-4686-47f3-bca8-2dac1e18b906",
   "metadata": {},
   "outputs": [],
   "source": []
  },
  {
   "cell_type": "code",
   "execution_count": null,
   "id": "27c47452-4c88-48a8-81ad-5dffd95277bd",
   "metadata": {},
   "outputs": [],
   "source": []
  },
  {
   "cell_type": "code",
   "execution_count": null,
   "id": "a5c81bd1-d688-4a4e-b778-4ce62117dd00",
   "metadata": {},
   "outputs": [],
   "source": []
  },
  {
   "cell_type": "code",
   "execution_count": null,
   "id": "95a4b1e2-edf8-4fc4-8bce-bc057bc66212",
   "metadata": {},
   "outputs": [],
   "source": []
  },
  {
   "cell_type": "code",
   "execution_count": null,
   "id": "8f469472-b407-49df-80fe-4f9e52b68536",
   "metadata": {},
   "outputs": [],
   "source": []
  },
  {
   "cell_type": "code",
   "execution_count": null,
   "id": "3d1c925e-6fc9-4c70-927e-4e9427c507e5",
   "metadata": {},
   "outputs": [],
   "source": []
  },
  {
   "cell_type": "code",
   "execution_count": null,
   "id": "9e2c25dc-efc9-403f-9f3f-d5f03e33cfde",
   "metadata": {},
   "outputs": [],
   "source": []
  }
 ],
 "metadata": {
  "kernelspec": {
   "display_name": "Python 3 (ipykernel)",
   "language": "python",
   "name": "python3"
  },
  "language_info": {
   "codemirror_mode": {
    "name": "ipython",
    "version": 3
   },
   "file_extension": ".py",
   "mimetype": "text/x-python",
   "name": "python",
   "nbconvert_exporter": "python",
   "pygments_lexer": "ipython3",
   "version": "3.11.7"
  }
 },
 "nbformat": 4,
 "nbformat_minor": 5
}
